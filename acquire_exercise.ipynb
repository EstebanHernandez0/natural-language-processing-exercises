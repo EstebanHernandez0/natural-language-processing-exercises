{
 "cells": [
  {
   "cell_type": "code",
   "execution_count": 31,
   "id": "a29e5322",
   "metadata": {},
   "outputs": [],
   "source": [
    "from requests import get\n",
    "import pandas as pd\n",
    "import numpy as np\n",
    "from bs4 import BeautifulSoup\n",
    "import os\n",
    "import json"
   ]
  },
  {
   "cell_type": "markdown",
   "id": "fa3207ba",
   "metadata": {},
   "source": [
    "1. Codeup Blog Articles\n",
    "\n",
    "Visit Codeup's Blog and record the urls for at least 5 distinct blog posts. For each post, you should scrape at least the post's title and content.\n",
    "\n",
    "Encapsulate your work in a function named get_blog_articles that will return a list of dictionaries, with each dictionary representing one article. The shape of each dictionary should look like this:"
   ]
  },
  {
   "cell_type": "code",
   "execution_count": 4,
   "id": "9543e01b",
   "metadata": {},
   "outputs": [],
   "source": [
    "url = 'https://codeup.com/blog/'\n",
    "headers = {'User-Agent': 'Codeup Data Science'}\n",
    "response = requests.get(url, headers=headers)"
   ]
  },
  {
   "cell_type": "code",
   "execution_count": 28,
   "id": "8842d41f",
   "metadata": {},
   "outputs": [
    {
     "data": {
      "text/plain": [
       "[<a class=\"more-link\" href=\"https://codeup.com/codeup-news/panelist-spotlight-4/\">read more</a>,\n",
       " <a class=\"more-link\" href=\"https://codeup.com/events/black-excellence-in-tech-panelist-spotlight-stephanie-jones/\">read more</a>,\n",
       " <a class=\"more-link\" href=\"https://codeup.com/events/black-excellence-in-tech-panelist-spotlight-james-cooper/\">read more</a>,\n",
       " <a class=\"more-link\" href=\"https://codeup.com/events/black-excellence-in-tech-panelist-spotlight/\">read more</a>,\n",
       " <a class=\"more-link\" href=\"https://codeup.com/tips-for-prospective-students/coding-bootcamp-or-self-learning/\">read more</a>,\n",
       " <a class=\"more-link\" href=\"https://codeup.com/codeup-news/codeup-best-bootcamps/\">read more</a>]"
      ]
     },
     "execution_count": 28,
     "metadata": {},
     "output_type": "execute_result"
    }
   ],
   "source": [
    "soup= BeautifulSoup(response.content, 'html.parser')\n",
    "more_links= soup.find_all('a', class_= 'more-link')\n",
    "more_links"
   ]
  },
  {
   "cell_type": "code",
   "execution_count": 29,
   "id": "ab417bc7",
   "metadata": {},
   "outputs": [
    {
     "data": {
      "text/plain": [
       "['https://codeup.com/codeup-news/panelist-spotlight-4/',\n",
       " 'https://codeup.com/events/black-excellence-in-tech-panelist-spotlight-stephanie-jones/',\n",
       " 'https://codeup.com/events/black-excellence-in-tech-panelist-spotlight-james-cooper/',\n",
       " 'https://codeup.com/events/black-excellence-in-tech-panelist-spotlight/',\n",
       " 'https://codeup.com/tips-for-prospective-students/coding-bootcamp-or-self-learning/',\n",
       " 'https://codeup.com/codeup-news/codeup-best-bootcamps/']"
      ]
     },
     "execution_count": 29,
     "metadata": {},
     "output_type": "execute_result"
    }
   ],
   "source": [
    "links_list= [link['href'] for link in more_links]\n",
    "links_list"
   ]
  },
  {
   "cell_type": "code",
   "execution_count": 33,
   "id": "02072a4c",
   "metadata": {},
   "outputs": [],
   "source": [
    "response= get('https://codeup.com/codeup-news/panelist-spotlight-4/', headers= headers)"
   ]
  },
  {
   "cell_type": "code",
   "execution_count": null,
   "id": "e9557acd",
   "metadata": {},
   "outputs": [],
   "source": [
    "soup= BeautifulSoup(response.content, 'html.parser')\n",
    "example3= soup.find('div', class_= 'entry-content')\n",
    "example3.text"
   ]
  }
 ],
 "metadata": {
  "kernelspec": {
   "display_name": "Python 3 (ipykernel)",
   "language": "python",
   "name": "python3"
  },
  "language_info": {
   "codemirror_mode": {
    "name": "ipython",
    "version": 3
   },
   "file_extension": ".py",
   "mimetype": "text/x-python",
   "name": "python",
   "nbconvert_exporter": "python",
   "pygments_lexer": "ipython3",
   "version": "3.9.13"
  }
 },
 "nbformat": 4,
 "nbformat_minor": 5
}
